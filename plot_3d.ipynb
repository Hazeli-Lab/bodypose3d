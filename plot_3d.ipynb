{
 "cells": [
  {
   "cell_type": "code",
   "execution_count": 1,
   "metadata": {},
   "outputs": [],
   "source": [
    "import numpy as np\n",
    "import matplotlib.pyplot as plt\n",
    "from abc import ABC\n",
    "\n",
    "%matplotlib qt\n",
    "\n",
    "class FigureBase(ABC):\n",
    "    \"\"\"Base class for `display_figure` option for .core.video.VideoPoseProcessor()\"\"\"\n",
    "    def __init__(self,  ax=None, fig=None, figsize=None,\n",
    "                 add_subplot=None, axes_3d=False, **kwargs):\n",
    "        self.artists = {}\n",
    "        self.setup_figure(ax=ax, fig=fig, figsize=figsize,\n",
    "                          add_subplot=add_subplot, axes_3d=axes_3d)\n",
    "\n",
    "    def setup_figure(self, ax=None, fig=None, figsize=None, add_subplot=None, axes_3d=False):\n",
    "        if ax is None:\n",
    "            if fig is None:\n",
    "                self.fig = plt.figure(figsize=figsize)\n",
    "                self.fig.set_constrained_layout(True)\n",
    "            else:\n",
    "                self.fig = fig\n",
    "            add_subplot = (1, 1, 1) if add_subplot is None else add_subplot\n",
    "            add_subplot_kwargs = dict(projection='3d') if axes_3d else {}\n",
    "            self.ax = self.fig.add_subplot(*add_subplot, **add_subplot_kwargs)\n",
    "        else:\n",
    "            self.ax = ax\n",
    "            self.fig = ax.get_figure()\n",
    "\n",
    "    def clear_artists(self):\n",
    "        \"\"\"Remove all artists from plot\"\"\"\n",
    "        for a in self.artists.values():\n",
    "            try:\n",
    "                a.remove()\n",
    "            except:\n",
    "                pass\n",
    "\n",
    "    def add(self, artist_key, artist_object):\n",
    "        \"\"\"Add artist to plot\"\"\"\n",
    "        self.artists[artist_key] = artist_object\n",
    "\n",
    "\n",
    "class LandmarkFigure(FigureBase):\n",
    "    def __init__(self, pose_connections=[], **kwargs):\n",
    "        \"\"\"pose_connections: list of connected pairs of landmark index\"\"\"\n",
    "        kwargs = kwargs | dict(axes_3d=True)\n",
    "        super().__init__(**kwargs)\n",
    "        self.conns = [list(conn) for conn in pose_connections]\n",
    "        self.set_axis(**kwargs)\n",
    "        self.add_plot_func('plot')\n",
    "\n",
    "    def set_axis(self, axis_limits=[[-1., 1.]] * 3, tick_interval=0.5, view=(10, -90), **kwargs):\n",
    "        \"\"\"Setting 3D axes\"\"\"\n",
    "        # ticks = []\n",
    "        # for lim in axis_limits:\n",
    "        #     ticks_range = np.asarray(lim) / tick_interval\n",
    "        #     ticks.append(np.arange(np.ceil(ticks_range[0]), np.floor(ticks_range[1]) + 1) * tick_interval)\n",
    "        ax = self.ax\n",
    "        ax.set_xlabel('y')\n",
    "        ax.set_zlabel('x')  # swap y and z, y downward\n",
    "        ax.set_ylabel('z')\n",
    "        ax.set_xlim(axis_limits[1])\n",
    "        ax.set_zlim(axis_limits[0])\n",
    "        ax.set_ylim(axis_limits[2])\n",
    "        # ax.set_xticks(ticks[1])\n",
    "        # ax.set_zticks(ticks[0])\n",
    "        # ax.set_yticks(ticks[2])\n",
    "        view = tuple(view) + (None,) * (3 - len(view))\n",
    "        ax.view_init(elev=view[0], azim=view[1], roll=view[2])\n",
    "\n",
    "    def add_plot_func(self, func_name):\n",
    "        \"\"\"Decorate axes plotting function to apply transform of axes\"\"\"\n",
    "        axes_func = getattr(self.ax, func_name)\n",
    "        def func(x, y, z, *args, **kwargs):\n",
    "            return axes_func(y, z, x, *args, **kwargs)\n",
    "        setattr(self, func_name, func)\n",
    "\n",
    "    def plot_landmarks(self, pos, vis_idx=None):\n",
    "        \"\"\"Plot landmarks and connections. Need to be called before adding other artists.\n",
    "        pos: 3d coordinates of landmarks\n",
    "        vis_idx: boolean array of visible landmarks\n",
    "        \"\"\"\n",
    "        self.clear_artists()\n",
    "        pos = np.asarray(pos) if vis_idx is None else np.asarray(pos)[vis_idx]\n",
    "        self.add('landmarks', self.plot(*pos.T, 'b.')[0])\n",
    "        if vis_idx is None:\n",
    "            for i, conn in enumerate(self.conns):\n",
    "                self.add(i, self.plot(*pos[conn].T, 'k', linewidth=.5)[0])\n",
    "        else:\n",
    "            for i, conn in enumerate(self.conns):\n",
    "                if all(vis_idx[conn]):\n",
    "                    self.add(i, self.plot(*pos[conn].T, 'k', linewidth=.5)[0])\n"
   ]
  },
  {
   "cell_type": "markdown",
   "metadata": {},
   "source": [
    "#### Test SVD performance"
   ]
  },
  {
   "cell_type": "code",
   "execution_count": 2,
   "metadata": {},
   "outputs": [],
   "source": [
    "# from scipy.linalg import svd\n",
    "\n",
    "# X = lambda *_: np.random.rand(4, 4)"
   ]
  },
  {
   "cell_type": "code",
   "execution_count": 3,
   "metadata": {},
   "outputs": [],
   "source": [
    "# %%timeit\n",
    "# _, _, v = svd(X(), full_matrices=False, overwrite_a=True, check_finite=False, lapack_driver='gesvd')"
   ]
  },
  {
   "cell_type": "code",
   "execution_count": 4,
   "metadata": {},
   "outputs": [],
   "source": [
    "# %%timeit\n",
    "# _, _, v = svd(X(), full_matrices=False, overwrite_a=True, check_finite=False, lapack_driver='gesdd')"
   ]
  },
  {
   "cell_type": "markdown",
   "metadata": {},
   "source": [
    "#### Display reconstruction results"
   ]
  },
  {
   "cell_type": "code",
   "execution_count": 5,
   "metadata": {},
   "outputs": [
    {
     "name": "stdout",
     "output_type": "stream",
     "text": [
      "3.268496584496461e-13\n"
     ]
    }
   ],
   "source": [
    "kpts_A = np.loadtxt('kpts_3d_A.dat')  # svd on A\n",
    "kpts_B = np.loadtxt('kpts_3d_B.dat')  # svd on A.T @ A\n",
    "print(np.max(kpts_A - kpts_B))\n",
    "\n",
    "kpts = kpts_A\n",
    "kpts = kpts.reshape((kpts.shape[0], -1, 3))\n",
    "axis_limits = np.column_stack([np.min(kpts, axis=(0, 1)), np.max(kpts, axis=(0, 1))])"
   ]
  },
  {
   "cell_type": "code",
   "execution_count": 6,
   "metadata": {},
   "outputs": [
    {
     "name": "stdout",
     "output_type": "stream",
     "text": [
      "[16, 14, 12, 11, 13, 15, 24, 23, 25, 26, 27, 28]\n"
     ]
    }
   ],
   "source": [
    "from bodypose3d import pose_keypoints\n",
    "\n",
    "print(pose_keypoints)\n",
    "kpt_ids = sorted(pose_keypoints)\n",
    "\n",
    "connections = [[11, 12], [11, 23], [12, 24], [23, 24],\n",
    "               [11, 13], [13, 15], [12, 14], [14, 16],\n",
    "               [23, 25], [25, 27], [24, 26], [26, 28]]\n",
    "connections = [[kpt_ids.index(c1), kpt_ids.index(c2)] for c1, c2 in connections]\n",
    "\n",
    "view = (15, -105)"
   ]
  },
  {
   "cell_type": "code",
   "execution_count": 7,
   "metadata": {},
   "outputs": [
    {
     "data": {
      "text/plain": [
       "<contextlib.ExitStack at 0x1c4722be690>"
      ]
     },
     "execution_count": 7,
     "metadata": {},
     "output_type": "execute_result"
    }
   ],
   "source": [
    "lm_fig = LandmarkFigure(connections, view=view, axis_limits=axis_limits)\n",
    "\n",
    "plt.show()\n",
    "plt.ion()"
   ]
  },
  {
   "cell_type": "code",
   "execution_count": 8,
   "metadata": {},
   "outputs": [],
   "source": [
    "fig_closed = False\n",
    "def close_fig(event):\n",
    "    global fig_closed\n",
    "    fig_closed = True\n",
    "\n",
    "def fig_key(event):\n",
    "    global fig_closed\n",
    "    fig_closed = event.key == 'q'\n",
    "\n",
    "lm_fig.fig.canvas.mpl_connect('key_press_event', fig_key)\n",
    "lm_fig.fig.canvas.mpl_connect('close_event', close_fig)\n",
    "\n",
    "for pt in kpts:\n",
    "    lm_fig.plot_landmarks(pt)\n",
    "    # plt.draw()\n",
    "    plt.pause(0.1)\n",
    "    if fig_closed:\n",
    "        break"
   ]
  },
  {
   "cell_type": "code",
   "execution_count": null,
   "metadata": {},
   "outputs": [],
   "source": [
    "\n"
   ]
  }
 ],
 "metadata": {
  "kernelspec": {
   "display_name": "base",
   "language": "python",
   "name": "python3"
  },
  "language_info": {
   "codemirror_mode": {
    "name": "ipython",
    "version": 3
   },
   "file_extension": ".py",
   "mimetype": "text/x-python",
   "name": "python",
   "nbconvert_exporter": "python",
   "pygments_lexer": "ipython3",
   "version": "3.12.3"
  }
 },
 "nbformat": 4,
 "nbformat_minor": 2
}
